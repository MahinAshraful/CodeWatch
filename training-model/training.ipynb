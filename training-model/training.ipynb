{
 "cells": [
  {
   "cell_type": "code",
   "execution_count": 4,
   "id": "895e576f",
   "metadata": {},
   "outputs": [
    {
     "name": "stdout",
     "output_type": "stream",
     "text": [
      "Data extracted from folder\n"
     ]
    }
   ],
   "source": [
    "# --- Reading the cpp files from currently directory and storing in array as raw strings ---\n",
    "\n",
    "import os\n",
    "\n",
    "def load_cpp_snippets(root_dir, limit=None):\n",
    "    snippets = []\n",
    "    for root, _, files in os.walk(root_dir):\n",
    "        for file in files:\n",
    "            if file.endswith(\".cpp\"):\n",
    "                path = os.path.join(root, file)\n",
    "                try:\n",
    "                    with open(path, \"r\", encoding=\"utf-8\", errors=\"ignore\") as f:\n",
    "                        code = f.read().strip()\n",
    "                        if code:\n",
    "                            snippets.append(code)\n",
    "                            if limit and len(snippets) >= limit:\n",
    "                                return snippets\n",
    "                except:\n",
    "                    continue  # skip unreadable files\n",
    "    return snippets\n",
    "\n",
    "cpp_dir = \"sample-data\"                                      # Change to your dataset folder\n",
    "code_snippets = load_cpp_snippets(cpp_dir, limit=100)        # Set limit as needed\n",
    "print(\"Data extracted from folder\")"
   ]
  },
  {
   "cell_type": "code",
   "execution_count": 5,
   "id": "69cc71b2",
   "metadata": {},
   "outputs": [
    {
     "name": "stdout",
     "output_type": "stream",
     "text": [
      "Data loaded\n"
     ]
    }
   ],
   "source": [
    "# --- Loading the tokenizer and batch for gpu ---\n",
    "\n",
    "from transformers import AutoTokenizer\n",
    "from torch.utils.data import DataLoader\n",
    "import torch\n",
    "import torch.nn.functional as F\n",
    "\n",
    "tokenizer = AutoTokenizer.from_pretrained(\"microsoft/graphcodebert-base\")\n",
    "\n",
    "def tokenize_batch(batch):\n",
    "    return tokenizer(batch, return_tensors=\"pt\", padding=True, truncation=True, max_length=256)\n",
    "\n",
    "# Follows the researchers' loss function \n",
    "def simcse_unsup_loss(emb1, emb2, temperature=0.1):\n",
    "    sim = F.cosine_similarity(emb1.unsqueeze(1), emb2.unsqueeze(0), dim=2)\n",
    "    sim /= temperature\n",
    "    labels = torch.arange(emb1.size(0)).to(emb1.device)\n",
    "    return F.cross_entropy(sim, labels)\n",
    "\n",
    "dataloader = DataLoader(code_snippets, batch_size=16, shuffle=True)\n",
    "print(\"Data loaded\")\n"
   ]
  },
  {
   "cell_type": "code",
   "execution_count": 6,
   "id": "bfadac0c",
   "metadata": {},
   "outputs": [
    {
     "name": "stderr",
     "output_type": "stream",
     "text": [
      "Some weights of RobertaModel were not initialized from the model checkpoint at microsoft/graphcodebert-base and are newly initialized: ['roberta.pooler.dense.bias', 'roberta.pooler.dense.weight']\n",
      "You should probably TRAIN this model on a down-stream task to be able to use it for predictions and inference.\n",
      "100%|██████████| 7/7 [00:36<00:00,  5.16s/it]\n"
     ]
    },
    {
     "name": "stdout",
     "output_type": "stream",
     "text": [
      "Epoch 1: Loss = 7.7987\n"
     ]
    },
    {
     "name": "stderr",
     "output_type": "stream",
     "text": [
      "100%|██████████| 7/7 [00:33<00:00,  4.85s/it]\n"
     ]
    },
    {
     "name": "stdout",
     "output_type": "stream",
     "text": [
      "Epoch 2: Loss = 2.1588\n"
     ]
    },
    {
     "name": "stderr",
     "output_type": "stream",
     "text": [
      "100%|██████████| 7/7 [00:33<00:00,  4.85s/it]\n"
     ]
    },
    {
     "name": "stdout",
     "output_type": "stream",
     "text": [
      "Epoch 3: Loss = 0.8482\n"
     ]
    },
    {
     "data": {
      "text/plain": [
       "('graphcodebert-cpp-simcse\\\\tokenizer_config.json',\n",
       " 'graphcodebert-cpp-simcse\\\\special_tokens_map.json',\n",
       " 'graphcodebert-cpp-simcse\\\\vocab.json',\n",
       " 'graphcodebert-cpp-simcse\\\\merges.txt',\n",
       " 'graphcodebert-cpp-simcse\\\\added_tokens.json',\n",
       " 'graphcodebert-cpp-simcse\\\\tokenizer.json')"
      ]
     },
     "execution_count": 6,
     "metadata": {},
     "output_type": "execute_result"
    }
   ],
   "source": [
    "# --- Training the model ---\n",
    "\n",
    "from transformers import AutoModel\n",
    "from tqdm import tqdm\n",
    "\n",
    "device = torch.device(\"cuda\" if torch.cuda.is_available() else \"cpu\")\n",
    "model = AutoModel.from_pretrained(\"microsoft/graphcodebert-base\").to(device)\n",
    "optimizer = torch.optim.AdamW(model.parameters(), lr=2e-5)\n",
    "\n",
    "model.train()\n",
    "\n",
    "for epoch in range(3):\n",
    "    total_loss = 0\n",
    "    for batch in tqdm(dataloader):\n",
    "        tokenized = tokenize_batch(batch)\n",
    "        tokenized = {k: v.to(device) for k, v in tokenized.items()}\n",
    "\n",
    "        outputs1 = model(**tokenized)\n",
    "        outputs2 = model(**tokenized)\n",
    "\n",
    "        out1 = outputs1.last_hidden_state[:, 0, :]  # [CLS]\n",
    "        out2 = outputs2.last_hidden_state[:, 0, :]  # [CLS]\n",
    "\n",
    "\n",
    "        loss = simcse_unsup_loss(out1, out2)\n",
    "        loss.backward()\n",
    "        optimizer.step()\n",
    "        optimizer.zero_grad()\n",
    "\n",
    "        total_loss += loss.item()\n",
    "    \n",
    "    print(f\"Epoch {epoch + 1}: Loss = {total_loss:.4f}\")\n",
    "\n",
    "# Save the model in the current directory\n",
    "model.save_pretrained(\"graphcodebert-cpp-simcse\")\n",
    "tokenizer.save_pretrained(\"graphcodebert-cpp-simcse\")"
   ]
  },
  {
   "cell_type": "code",
   "execution_count": null,
   "id": "0d92bce6",
   "metadata": {},
   "outputs": [],
   "source": []
  }
 ],
 "metadata": {
  "kernelspec": {
   "display_name": "Python (Global)",
   "language": "python",
   "name": "global-python"
  },
  "language_info": {
   "codemirror_mode": {
    "name": "ipython",
    "version": 3
   },
   "file_extension": ".py",
   "mimetype": "text/x-python",
   "name": "python",
   "nbconvert_exporter": "python",
   "pygments_lexer": "ipython3",
   "version": "3.10.6"
  }
 },
 "nbformat": 4,
 "nbformat_minor": 5
}
